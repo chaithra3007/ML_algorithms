{
 "cells": [
  {
   "cell_type": "markdown",
   "id": "b09f62e9",
   "metadata": {},
   "source": [
    "# SIMPLE LINEAR REGRESSION "
   ]
  },
  {
   "cell_type": "markdown",
   "id": "233ed7b1",
   "metadata": {},
   "source": [
    "PREDICTION OF BRAIN SIZE BASED ON HEAD SIZE\n",
    "\n",
    "STEPS:\n",
    "1. IMPORT RELATED MODULES\n",
    "2. READING THE DATA\n",
    "3. SPLITTING THE DATA INTO TRAINING AND TEST\n",
    "4. FITTING SIMPLE LINEAR REGRESSION TO THE TRAINING SET\n",
    "5. PREDICT THE TEST RESULT\n",
    "6. SEE THE RELATIONSHIP BETWEEN THE TRAINING DATA VALUES USING SCATTER PLOT\n",
    "7. CALCULATE (ROOT MEAN SQUARED ERROR) RMSE VALUE\n"
   ]
  },
  {
   "cell_type": "code",
   "execution_count": 1,
   "id": "64c1fc3d",
   "metadata": {},
   "outputs": [],
   "source": [
    "#.1\n",
    "import numpy as np\n",
    "import pandas as pd\n",
    "import matplotlib.pyplot as plt\n"
   ]
  },
  {
   "cell_type": "code",
   "execution_count": 2,
   "id": "b93af559",
   "metadata": {},
   "outputs": [
    {
     "data": {
      "text/html": [
       "<div>\n",
       "<style scoped>\n",
       "    .dataframe tbody tr th:only-of-type {\n",
       "        vertical-align: middle;\n",
       "    }\n",
       "\n",
       "    .dataframe tbody tr th {\n",
       "        vertical-align: top;\n",
       "    }\n",
       "\n",
       "    .dataframe thead th {\n",
       "        text-align: right;\n",
       "    }\n",
       "</style>\n",
       "<table border=\"1\" class=\"dataframe\">\n",
       "  <thead>\n",
       "    <tr style=\"text-align: right;\">\n",
       "      <th></th>\n",
       "      <th>Gender</th>\n",
       "      <th>Age Range</th>\n",
       "      <th>Head Size(cm^3)</th>\n",
       "      <th>Brain Weight(grams)</th>\n",
       "    </tr>\n",
       "  </thead>\n",
       "  <tbody>\n",
       "    <tr>\n",
       "      <th>0</th>\n",
       "      <td>1</td>\n",
       "      <td>1</td>\n",
       "      <td>4512</td>\n",
       "      <td>1530</td>\n",
       "    </tr>\n",
       "    <tr>\n",
       "      <th>1</th>\n",
       "      <td>1</td>\n",
       "      <td>1</td>\n",
       "      <td>3738</td>\n",
       "      <td>1297</td>\n",
       "    </tr>\n",
       "    <tr>\n",
       "      <th>2</th>\n",
       "      <td>1</td>\n",
       "      <td>1</td>\n",
       "      <td>4261</td>\n",
       "      <td>1335</td>\n",
       "    </tr>\n",
       "    <tr>\n",
       "      <th>3</th>\n",
       "      <td>1</td>\n",
       "      <td>1</td>\n",
       "      <td>3777</td>\n",
       "      <td>1282</td>\n",
       "    </tr>\n",
       "    <tr>\n",
       "      <th>4</th>\n",
       "      <td>1</td>\n",
       "      <td>1</td>\n",
       "      <td>4177</td>\n",
       "      <td>1590</td>\n",
       "    </tr>\n",
       "  </tbody>\n",
       "</table>\n",
       "</div>"
      ],
      "text/plain": [
       "   Gender  Age Range  Head Size(cm^3)  Brain Weight(grams)\n",
       "0       1          1             4512                 1530\n",
       "1       1          1             3738                 1297\n",
       "2       1          1             4261                 1335\n",
       "3       1          1             3777                 1282\n",
       "4       1          1             4177                 1590"
      ]
     },
     "execution_count": 2,
     "metadata": {},
     "output_type": "execute_result"
    }
   ],
   "source": [
    "#2.\n",
    "\n",
    "data=pd.read_csv(\"headbrain6.csv\")\n",
    "data.head()"
   ]
  },
  {
   "cell_type": "code",
   "execution_count": 8,
   "id": "e099201a",
   "metadata": {},
   "outputs": [],
   "source": [
    "x=data.iloc[:,2:3].values  #INPUT VARIABLE(Head Size(cm^3))\n",
    "\n",
    "y=data.iloc[:,3:4].values   #OUTPUT VARIABLE(Brain Weight(grams))\n"
   ]
  },
  {
   "cell_type": "code",
   "execution_count": 10,
   "id": "e63f12ed",
   "metadata": {},
   "outputs": [],
   "source": [
    "#3.\n",
    "from sklearn .model_selection import train_test_split\n",
    "x_train, x_test, y_train, y_test= train_test_split(x,y,test_size=1/4, random_state=0)\n"
   ]
  },
  {
   "cell_type": "code",
   "execution_count": 12,
   "id": "c74ca10f",
   "metadata": {},
   "outputs": [
    {
     "data": {
      "text/plain": [
       "LinearRegression()"
      ]
     },
     "execution_count": 12,
     "metadata": {},
     "output_type": "execute_result"
    }
   ],
   "source": [
    "#4.\n",
    "from sklearn.linear_model import LinearRegression\n",
    "reg=LinearRegression().fit(x_train,y_train)\n",
    "reg"
   ]
  },
  {
   "cell_type": "code",
   "execution_count": 15,
   "id": "604b0a52",
   "metadata": {},
   "outputs": [
    {
     "data": {
      "text/plain": [
       "array([[1306.62267486],\n",
       "       [1295.36286585],\n",
       "       [1385.44133792],\n",
       "       [1255.44172482],\n",
       "       [1321.46515037],\n",
       "       [1286.9180091 ],\n",
       "       [1502.13390401],\n",
       "       [1257.74486758],\n",
       "       [1385.95314742],\n",
       "       [1339.12257814],\n",
       "       [1406.42552743],\n",
       "       [1138.49325399],\n",
       "       [1202.72534628],\n",
       "       [1334.77219738],\n",
       "       [1221.40639305],\n",
       "       [1233.68982106],\n",
       "       [1283.07943784],\n",
       "       [1355.7563869 ],\n",
       "       [1243.92601107],\n",
       "       [1278.21724759],\n",
       "       [1238.55201131],\n",
       "       [1418.19714594],\n",
       "       [1353.45324415],\n",
       "       [1271.05191459],\n",
       "       [1327.09505488],\n",
       "       [1312.76438887],\n",
       "       [1165.10734801],\n",
       "       [1285.12667585],\n",
       "       [1487.29142849],\n",
       "       [1084.75325645],\n",
       "       [1189.93010878],\n",
       "       [1272.07553359],\n",
       "       [1243.92601107],\n",
       "       [1378.53190966],\n",
       "       [1342.19343514],\n",
       "       [1227.03629755],\n",
       "       [1326.83915013],\n",
       "       [1375.97286216],\n",
       "       [1332.21314988],\n",
       "       [1246.74096332],\n",
       "       [1340.91391139],\n",
       "       [1145.65858699],\n",
       "       [1144.37906324],\n",
       "       [1345.52019689],\n",
       "       [1441.99628771],\n",
       "       [1264.39839108],\n",
       "       [1223.96544055],\n",
       "       [1158.4538245 ],\n",
       "       [1147.96172974],\n",
       "       [1139.00506349],\n",
       "       [1224.2213453 ],\n",
       "       [1290.75658035],\n",
       "       [1269.00467658],\n",
       "       [1418.45305069],\n",
       "       [1222.1741073 ],\n",
       "       [1192.74506103],\n",
       "       [1139.51687299],\n",
       "       [1184.81201377],\n",
       "       [1307.39038911],\n",
       "       [1105.73744596]])"
      ]
     },
     "execution_count": 15,
     "metadata": {},
     "output_type": "execute_result"
    }
   ],
   "source": [
    "#5.\n",
    "\n",
    "y_pred=reg.predict(x_test)\n",
    "y_pred\n"
   ]
  },
  {
   "cell_type": "code",
   "execution_count": 16,
   "id": "1fad7361",
   "metadata": {},
   "outputs": [
    {
     "data": {
      "image/png": "[encoded data removed]",
      "text/plain": [
       "<Figure size 432x288 with 1 Axes>"
      ]
     },
     "metadata": {
      "needs_background": "light"
     },
     "output_type": "display_data"
    }
   ],
   "source": [
    "#6.\n",
    "\n",
    "plt.scatter(x_train,y_train,c='red')\n",
    "plt.xlabel(\"Head Size\")\n",
    "plt.ylabel(\"Brain Weight\")\n",
    "plt.show()"
   ]
  },
  {
   "cell_type": "code",
   "execution_count": 31,
   "id": "fb0b16f3",
   "metadata": {},
   "outputs": [
    {
     "data": {
      "image/png": "[encoded data removed]",
      "text/plain": [
       "<Figure size 432x288 with 1 Axes>"
      ]
     },
     "metadata": {
      "needs_background": "light"
     },
     "output_type": "display_data"
    }
   ],
   "source": [
    "# To See the relationship between the predicted brain weight values using scatter plot.(\n",
    "\n",
    "plt.plot(x_test,y_pred)\n",
    "plt.scatter(x_test,y_test,c='red')\n",
    "plt.xlabel(\"Head Size\")\n",
    "plt.ylabel(\"Brain Weight\")\n",
    "plt.show()"
   ]
  },
  {
   "cell_type": "code",
   "execution_count": 17,
   "id": "f2b480e9",
   "metadata": {},
   "outputs": [
    {
     "name": "stdout",
     "output_type": "stream",
     "text": [
      "Final RMSE Value 72.56001138649819\n"
     ]
    }
   ],
   "source": [
    "#7.\n",
    "\n",
    "print(\"Final RMSE Value\",np.sqrt(np.mean((y_test-y_pred)**2)))"
   ]
  }
 ],
 "metadata": {
  "kernelspec": {
   "display_name": "Python 3",
   "language": "python",
   "name": "python3"
  },
  "language_info": {
   "codemirror_mode": {
    "name": "ipython",
    "version": 3
   },
   "file_extension": ".py",
   "mimetype": "text/x-python",
   "name": "python",
   "nbconvert_exporter": "python",
   "pygments_lexer": "ipython3",
   "version": "3.8.8"
  }
 },
 "nbformat": 4,
 "nbformat_minor": 5
}
