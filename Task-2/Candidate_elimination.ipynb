{
  "nbformat": 4,
  "nbformat_minor": 0,
  "metadata": {
    "colab": {
      "provenance": []
    },
    "kernelspec": {
      "name": "python3",
      "display_name": "Python 3"
    },
    "language_info": {
      "name": "python"
    }
  },
  "cells": [
    {
      "cell_type": "code",
      "execution_count": null,
      "metadata": {
        "id": "ysQdld7sSnz_"
      },
      "outputs": [],
      "source": [
        "import numpy as np \n",
        "import pandas as pd"
      ]
    },
    {
      "cell_type": "code",
      "source": [
        "# Reading the data from CSV file\n",
        "data = pd.read_csv('data.csv')\n",
        "concepts = np.array(data.iloc[:,:-1])\n",
        "print(\"\\nInstances are:\\n\",concepts)\n"
      ],
      "metadata": {
        "colab": {
          "base_uri": "https://localhost:8080/"
        },
        "id": "6UJuv8rBSp6n",
        "outputId": "2c433c44-84cb-4e7a-95a0-57b28fdb6f3c"
      },
      "execution_count": null,
      "outputs": [
        {
          "output_type": "stream",
          "name": "stdout",
          "text": [
            "\n",
            "Instances are:\n",
            " [['Sunny' 'Warm' 'Normal' 'Strong' 'Warm' 'Same']\n",
            " ['Sunny' 'Warm' 'High' 'Strong' 'Warm' 'Same']\n",
            " ['Rainy' 'Cold' 'High' 'Strong' 'Warm' 'Change']\n",
            " ['Sunny' 'Warm' 'High' 'Strong' 'Cool' 'Change']]\n"
          ]
        }
      ]
    },
    {
      "cell_type": "code",
      "source": [
        "target = np.array(data.iloc[:,-1])\n",
        "print(\"\\nTarget Values are: \",target)"
      ],
      "metadata": {
        "colab": {
          "base_uri": "https://localhost:8080/"
        },
        "id": "QR1HMhbvSxHM",
        "outputId": "2dc4204f-3543-4c22-d99f-ef604e5f4aec"
      },
      "execution_count": null,
      "outputs": [
        {
          "output_type": "stream",
          "name": "stdout",
          "text": [
            "\n",
            "Target Values are:  ['Yes' 'Yes' 'No' 'Yes']\n"
          ]
        }
      ]
    },
    {
      "cell_type": "code",
      "source": [
        "def train(concepts, target):\n",
        "  for i, h in enumerate(concepts):\n",
        "    if target[i]==\"Yes\":\n",
        "      specific_h=concepts[i]\n",
        "      break\n",
        "\n",
        "  print(\"Intialization of specific_h and genral_h\")\n",
        "  print(specific_h)     \n",
        "  general_h = [[\"?\" for i in range(len(specific_h))] for i in range(len(specific_h))]\n",
        "  print(general_h) \n",
        "  print(h)\n",
        "# Checking if the hypothesis has a positive target \n",
        "  for i,h in enumerate(concepts):\n",
        "    if target[i]==\"Yes\":\n",
        "      for x in range(len(specific_h)):\n",
        "        if h[x]!=specific_h[x]:\n",
        "          #Change values S and G\n",
        "          specific_h[x]='?'\n",
        "          general_h[x][x]='?'\n",
        "## Checking if the hypothesis has a negative target \n",
        "    if target[i]=='No':\n",
        "       for x in range(len(specific_h)):\n",
        "         # for negative hypothisis change values only in G\n",
        "         if h[x]!=specific_h[x]:\n",
        "           general_h[x][x]=specific_h[x]\n",
        "         else:\n",
        "           general_h[x][x]='?'\n",
        "  print(\"steps of Candidate Elimination Algorithm\",i+1) \n",
        "  print(specific_h)  \n",
        "  print(general_h)\n",
        "  # find indices where we have empty rows, meaning that are unchanged \n",
        "  indices = [i for i, val in enumerate(general_h) if val == ['?', '?', '?', '?', '?', '?']] \n",
        "  for i in indices:\n",
        "    # remove those rows from general_h\n",
        "    general_h.remove(['?', '?', '?', '?', '?', '?'])\n",
        "# return final values \n",
        "  return specific_h, general_h       \n",
        "s_final, g_final = train(concepts, target)\n",
        "# displaying Specific_hypothesis\n",
        "print(\"Final Specific_h: \", s_final, sep=\"\\n\")\n",
        "# displaying Generalized_Hypothesis\n",
        "print(\"Final General_h: \", g_final, sep=\"\\n\") \n",
        "\n",
        "\n",
        "   \n",
        "   \n",
        "   \n",
        "   \n",
        " \n",
        "    \n",
        "         "
      ],
      "metadata": {
        "colab": {
          "base_uri": "https://localhost:8080/"
        },
        "id": "FUsyRzHcSxmw",
        "outputId": "f103a964-6a80-415f-f300-d34915a80710"
      },
      "execution_count": null,
      "outputs": [
        {
          "output_type": "stream",
          "name": "stdout",
          "text": [
            "Intialization of specific_h and genral_h\n",
            "['Sunny' 'Warm' '?' 'Strong' '?' '?']\n",
            "[['?', '?', '?', '?', '?', '?'], ['?', '?', '?', '?', '?', '?'], ['?', '?', '?', '?', '?', '?'], ['?', '?', '?', '?', '?', '?'], ['?', '?', '?', '?', '?', '?'], ['?', '?', '?', '?', '?', '?']]\n",
            "['Sunny' 'Warm' '?' 'Strong' '?' '?']\n",
            "steps of Candidate Elimination Algorithm 4\n",
            "['Sunny' 'Warm' '?' 'Strong' '?' '?']\n",
            "[['Sunny', '?', '?', '?', '?', '?'], ['?', 'Warm', '?', '?', '?', '?'], ['?', '?', '?', '?', '?', '?'], ['?', '?', '?', '?', '?', '?'], ['?', '?', '?', '?', '?', '?'], ['?', '?', '?', '?', '?', '?']]\n",
            "Final Specific_h: \n",
            "['Sunny' 'Warm' '?' 'Strong' '?' '?']\n",
            "Final General_h: \n",
            "[['Sunny', '?', '?', '?', '?', '?'], ['?', 'Warm', '?', '?', '?', '?']]\n"
          ]
        }
      ]
    },
    {
      "cell_type": "code",
      "source": [],
      "metadata": {
        "id": "SJFhL13sSzxg"
      },
      "execution_count": null,
      "outputs": []
    }
  ]
}