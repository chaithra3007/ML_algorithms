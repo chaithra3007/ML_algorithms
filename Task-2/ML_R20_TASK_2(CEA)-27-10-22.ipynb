{
  "cells": [
    {
      "cell_type": "code",
      "execution_count": 3,
      "id": "dae1cc87",
      "metadata": {
        "id": "dae1cc87"
      },
      "outputs": [],
      "source": [
        "import numpy as np \n",
        "import pandas as pd"
      ]
    },
    {
      "cell_type": "code",
      "execution_count": 4,
      "id": "4f9f4708",
      "metadata": {
        "colab": {
          "base_uri": "https://localhost:8080/"
        },
        "id": "4f9f4708",
        "outputId": "588bb1ea-3034-4fc6-a755-328953d415f0"
      },
      "outputs": [
        {
          "name": "stdout",
          "output_type": "stream",
          "text": [
            "\n",
            "Instances are:\n",
            " [['Sunny' 'Warm' 'Normal' 'Strong' 'Warm' 'Same']\n",
            " ['Sunny' 'Warm' 'High' 'Strong' 'Warm' 'Same']\n",
            " ['Rainy' 'Cold' 'High' 'Strong' 'Warm' 'Change']\n",
            " ['Sunny' 'Warm' 'High' 'Strong' 'Cool' 'Change']]\n"
          ]
        }
      ],
      "source": [
        "# Reading the data from CSV file\n",
        "data = pd.read_csv('data.csv')\n",
        "concepts = np.array(data.iloc[:,:-1])\n",
        "print(\"\\nInstances are:\\n\",concepts)\n"
      ]
    },
    {
      "cell_type": "code",
      "execution_count": 5,
      "id": "fb278b9f",
      "metadata": {
        "colab": {
          "base_uri": "https://localhost:8080/"
        },
        "id": "fb278b9f",
        "outputId": "607d60bd-92a8-414e-c0ee-1e7c18c4d15d"
      },
      "outputs": [
        {
          "name": "stdout",
          "output_type": "stream",
          "text": [
            "\n",
            "Target Values are:  ['Yes' 'Yes' 'No' 'Yes']\n"
          ]
        }
      ],
      "source": [
        "target = np.array(data.iloc[:,-1])\n",
        "print(\"\\nTarget Values are: \",target)"
      ]
    },
    {
      "cell_type": "code",
      "execution_count": 32,
      "id": "00a765a1",
      "metadata": {
        "colab": {
          "base_uri": "https://localhost:8080/"
        },
        "id": "00a765a1",
        "outputId": "67971eb5-d581-47de-ff01-e6175cad79c7"
      },
      "outputs": [
        {
          "name": "stdout",
          "output_type": "stream",
          "text": [
            "Intialization of specific_h and genral_h\n",
            "['Sunny' 'Warm' 'Normal' 'Strong' 'Warm' 'Same']\n",
            "[['?', '?', '?', '?', '?', '?'], ['?', '?', '?', '?', '?', '?'], ['?', '?', '?', '?', '?', '?'], ['?', '?', '?', '?', '?', '?'], ['?', '?', '?', '?', '?', '?'], ['?', '?', '?', '?', '?', '?']]\n",
            "steps of Candidate Elimination Algorithm 4\n",
            "['Sunny' 'Warm' '?' 'Strong' '?' '?']\n",
            "[['Sunny', '?', '?', '?', '?', '?'], ['?', 'Warm', '?', '?', '?', '?'], ['?', '?', '?', '?', '?', '?'], ['?', '?', '?', '?', '?', '?'], ['?', '?', '?', '?', '?', '?'], ['?', '?', '?', '?', '?', '?']]\n",
            "Final Specific_h: \n",
            "['Sunny' 'Warm' '?' 'Strong' '?' '?']\n",
            "Final General_h: \n",
            "[['Sunny', '?', '?', '?', '?', '?'], ['?', 'Warm', '?', '?', '?', '?']]\n"
          ]
        }
      ],
      "source": [
        "def train(concepts, target):\n",
        "  for i, h in enumerate(concepts):\n",
        "    if target[i]==\"Yes\":\n",
        "      specific_h=concepts[i]\n",
        "      break\n",
        "\n",
        "  print(\"Intialization of specific_h and genral_h\")\n",
        "  print(specific_h)     \n",
        "  general_h = [[\"?\" for i in range(len(specific_h))] for i in range(len(specific_h))]\n",
        "  print(general_h) \n",
        "# Checking if the hypothesis has a positive target \n",
        "  for i,h in enumerate(concepts):\n",
        "    if target[i]==\"Yes\":\n",
        "      for x in range(len(specific_h)):\n",
        "        if h[x]!=specific_h[x]:\n",
        "          #Change values S and G\n",
        "          specific_h[x]='?'\n",
        "          general_h[x][x]='?'\n",
        "## Checking if the hypothesis has a negative target \n",
        "    if target[i]=='No':\n",
        "       for x in range(len(specific_h)):\n",
        "         # for negative hypothisis change values only in G\n",
        "         if h[x]!=specific_h[x]:\n",
        "           general_h[x][x]=specific_h[x]\n",
        "         else:\n",
        "           general_h[x][x]='?'\n",
        "  print(\"steps of Candidate Elimination Algorithm\",i+1) \n",
        "  print(specific_h)  \n",
        "  print(general_h)\n",
        "  # find indices where we have empty rows, meaning that are unchanged \n",
        "  indices = [i for i, val in enumerate(general_h) if val == ['?', '?', '?', '?', '?', '?']] \n",
        "  for i in indices:\n",
        "    # remove those rows from general_h\n",
        "    general_h.remove(['?', '?', '?', '?', '?', '?'])\n",
        "# return final values \n",
        "  return specific_h, general_h       \n",
        "s_final, g_final = train(concepts, target)\n",
        "# displaying Specific_hypothesis\n",
        "print(\"Final Specific_h: \", s_final, sep=\"\\n\")\n",
        "# displaying Generalized_Hypothesis\n",
        "print(\"Final General_h: \", g_final, sep=\"\\n\") \n",
        "\n",
        "\n",
        "   \n",
        "   \n",
        "   \n",
        "   \n",
        " \n",
        "    \n",
        "         "
      ]
    },
    {
      "cell_type": "code",
      "execution_count": null,
      "id": "kWapxj1UTVqr",
      "metadata": {
        "colab": {
          "base_uri": "https://localhost:8080/",
          "height": 135
        },
        "id": "kWapxj1UTVqr",
        "outputId": "347ed39d-f1dc-4b63-86bc-2542bd0c174b"
      },
      "outputs": [
        {
          "ename": "SyntaxError",
          "evalue": "ignored",
          "output_type": "error",
          "traceback": [
            "\u001b[0;36m  File \u001b[0;32m\"<ipython-input-6-539f48356b2a>\"\u001b[0;36m, line \u001b[0;32m29\u001b[0m\n\u001b[0;31m    return specific_h, general_h\u001b[0m\n\u001b[0m    ^\u001b[0m\n\u001b[0;31mSyntaxError\u001b[0m\u001b[0;31m:\u001b[0m 'return' outside function\n"
          ]
        }
      ],
      "source": []
    },
    {
      "cell_type": "code",
      "execution_count": null,
      "id": "81c6fd97",
      "metadata": {
        "id": "81c6fd97"
      },
      "outputs": [],
      "source": []
    },
    {
      "cell_type": "code",
      "execution_count": null,
      "id": "8110ea6f",
      "metadata": {
        "id": "8110ea6f"
      },
      "outputs": [],
      "source": []
    }
  ],
  "metadata": {
    "colab": {
      "provenance": []
    },
    "kernelspec": {
      "display_name": "Python 3",
      "language": "python",
      "name": "python3"
    },
    "language_info": {
      "codemirror_mode": {
        "name": "ipython",
        "version": 3
      },
      "file_extension": ".py",
      "mimetype": "text/x-python",
      "name": "python",
      "nbconvert_exporter": "python",
      "pygments_lexer": "ipython3",
      "version": "3.8.8"
    }
  },
  "nbformat": 4,
  "nbformat_minor": 5
}
