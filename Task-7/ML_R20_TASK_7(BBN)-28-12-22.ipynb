{
  "cells": [
    {
      "cell_type": "code",
      "execution_count": 10,
      "id": "967bea70",
      "metadata": {
        "id": "967bea70"
      },
      "outputs": [],
      "source": [
        "import pandas as pd\n",
        "import numpy as np\n",
        "\n",
        "# import bayespy as bp\n",
        "#import warnings\n",
        "#warnings.filterwarnings('ignore')\n"
      ]
    },
    {
      "cell_type": "code",
      "execution_count": 11,
      "id": "628297bc",
      "metadata": {
        "colab": {
          "base_uri": "https://localhost:8080/"
        },
        "id": "628297bc",
        "outputId": "f61dbcc9-e900-4b44-b2c7-c41b8049d5ec"
      },
      "outputs": [
        {
          "output_type": "stream",
          "name": "stdout",
          "text": [
            "Looking in indexes: https://pypi.org/simple, https://us-python.pkg.dev/colab-wheels/public/simple/\n",
            "Requirement already satisfied: pgmpy in /usr/local/lib/python3.8/dist-packages (0.1.20)\n",
            "Requirement already satisfied: scikit-learn in /usr/local/lib/python3.8/dist-packages (from pgmpy) (1.0.2)\n",
            "Requirement already satisfied: statsmodels in /usr/local/lib/python3.8/dist-packages (from pgmpy) (0.12.2)\n",
            "Requirement already satisfied: opt-einsum in /usr/local/lib/python3.8/dist-packages (from pgmpy) (3.3.0)\n",
            "Requirement already satisfied: tqdm in /usr/local/lib/python3.8/dist-packages (from pgmpy) (4.64.1)\n",
            "Requirement already satisfied: numpy in /usr/local/lib/python3.8/dist-packages (from pgmpy) (1.21.6)\n",
            "Requirement already satisfied: scipy in /usr/local/lib/python3.8/dist-packages (from pgmpy) (1.7.3)\n",
            "Requirement already satisfied: pyparsing in /usr/local/lib/python3.8/dist-packages (from pgmpy) (3.0.9)\n",
            "Requirement already satisfied: joblib in /usr/local/lib/python3.8/dist-packages (from pgmpy) (1.2.0)\n",
            "Requirement already satisfied: networkx in /usr/local/lib/python3.8/dist-packages (from pgmpy) (2.8.8)\n",
            "Requirement already satisfied: torch in /usr/local/lib/python3.8/dist-packages (from pgmpy) (1.13.0+cu116)\n",
            "Requirement already satisfied: pandas in /usr/local/lib/python3.8/dist-packages (from pgmpy) (1.3.5)\n",
            "Requirement already satisfied: pytz>=2017.3 in /usr/local/lib/python3.8/dist-packages (from pandas->pgmpy) (2022.6)\n",
            "Requirement already satisfied: python-dateutil>=2.7.3 in /usr/local/lib/python3.8/dist-packages (from pandas->pgmpy) (2.8.2)\n",
            "Requirement already satisfied: six>=1.5 in /usr/local/lib/python3.8/dist-packages (from python-dateutil>=2.7.3->pandas->pgmpy) (1.15.0)\n",
            "Requirement already satisfied: threadpoolctl>=2.0.0 in /usr/local/lib/python3.8/dist-packages (from scikit-learn->pgmpy) (3.1.0)\n",
            "Requirement already satisfied: patsy>=0.5 in /usr/local/lib/python3.8/dist-packages (from statsmodels->pgmpy) (0.5.3)\n",
            "Requirement already satisfied: typing-extensions in /usr/local/lib/python3.8/dist-packages (from torch->pgmpy) (4.4.0)\n",
            "Looking in indexes: https://pypi.org/simple, https://us-python.pkg.dev/colab-wheels/public/simple/\n",
            "Requirement already satisfied: bayespy in /usr/local/lib/python3.8/dist-packages (0.5.25)\n",
            "Requirement already satisfied: scipy>=0.13.0 in /usr/local/lib/python3.8/dist-packages (from bayespy) (1.7.3)\n",
            "Requirement already satisfied: numpy>=1.10.0 in /usr/local/lib/python3.8/dist-packages (from bayespy) (1.21.6)\n",
            "Requirement already satisfied: h5py in /usr/local/lib/python3.8/dist-packages (from bayespy) (3.1.0)\n"
          ]
        }
      ],
      "source": [
        "!pip install pgmpy\n",
        "!pip install bayespy\n"
      ]
    },
    {
      "cell_type": "code",
      "execution_count": 12,
      "id": "7a5934fd",
      "metadata": {
        "colab": {
          "base_uri": "https://localhost:8080/"
        },
        "id": "7a5934fd",
        "outputId": "dacb527f-a5e4-4e58-a408-36fee48cdff1"
      },
      "outputs": [
        {
          "output_type": "stream",
          "name": "stdout",
          "text": [
            "     age  sex  cp  trestbps  chol  fbs  restecg  thalach  exang  oldpeak  \\\n",
            "0     63    1   1       145   233    1        2      150      0      2.3   \n",
            "1     67    1   4       160   286    0        2      108      1      1.5   \n",
            "2     67    1   4       120   229    0        2      129      1      2.6   \n",
            "3     37    1   3       130   250    0        0      187      0      3.5   \n",
            "4     41    0   2       130   204    0        2      172      0      1.4   \n",
            "..   ...  ...  ..       ...   ...  ...      ...      ...    ...      ...   \n",
            "298   45    1   1       110   264    0        0      132      0      1.2   \n",
            "299   68    1   4       144   193    1        0      141      0      3.4   \n",
            "300   57    1   4       130   131    0        0      115      1      1.2   \n",
            "301   57    0   2       130   236    0        2      174      0      0.0   \n",
            "302   38    1   3       138   175    0        0      173      0      0.0   \n",
            "\n",
            "     slope ca thal  heartdisease  \n",
            "0        3  0    6             0  \n",
            "1        2  3    3             2  \n",
            "2        2  2    7             1  \n",
            "3        3  0    3             0  \n",
            "4        1  0    3             0  \n",
            "..     ... ..  ...           ...  \n",
            "298      2  0    7             1  \n",
            "299      2  2    7             2  \n",
            "300      2  1    7             3  \n",
            "301      2  1    3             1  \n",
            "302      1  ?    3             0  \n",
            "\n",
            "[303 rows x 14 columns]\n"
          ]
        }
      ],
      "source": [
        "heart_disease=pd.read_csv(\"data7_heart.csv\")\n",
        "print(heart_disease)\n"
      ]
    },
    {
      "cell_type": "code",
      "execution_count": 15,
      "id": "819b42bc",
      "metadata": {
        "colab": {
          "base_uri": "https://localhost:8080/"
        },
        "id": "819b42bc",
        "outputId": "fd33a230-f86b-4b8f-e065-81fc2a772024"
      },
      "outputs": [
        {
          "output_type": "stream",
          "name": "stdout",
          "text": [
            "Columns in the dataset\n"
          ]
        },
        {
          "output_type": "execute_result",
          "data": {
            "text/plain": [
              "Index(['age', 'sex', 'cp', 'trestbps', 'chol', 'fbs', 'restecg', 'thalach',\n",
              "       'exang', 'oldpeak', 'slope', 'ca', 'thal', 'heartdisease'],\n",
              "      dtype='object')"
            ]
          },
          "metadata": {},
          "execution_count": 15
        }
      ],
      "source": [
        "print('Columns in the dataset')\n",
        "heart_disease.columns"
      ]
    },
    {
      "cell_type": "code",
      "execution_count": 5,
      "id": "976c5043",
      "metadata": {
        "id": "976c5043"
      },
      "outputs": [],
      "source": [
        "from pgmpy.models import BayesianModel\n",
        "from pgmpy.estimators import MaximumLikelihoodEstimator\n",
        "model=BayesianModel([('age','trestbps'), ('age', 'fbs'), ('sex', 'trestbps'), ('exang',\n",
        "'trestbps'),('trestbps','heartdisease'),('fbs','heartdisease'),('heartdisease','restecg'),\n",
        "('heartdisease','thalach'), ('heartdisease','chol')])\n",
        "model.fit(heart_disease, estimator=MaximumLikelihoodEstimator)"
      ]
    },
    {
      "cell_type": "code",
      "execution_count": 17,
      "id": "eb3496c3",
      "metadata": {
        "colab": {
          "base_uri": "https://localhost:8080/"
        },
        "id": "eb3496c3",
        "outputId": "f3a33e7e-2556-4c69-c5bf-e251eac0ba63"
      },
      "outputs": [
        {
          "output_type": "stream",
          "name": "stdout",
          "text": [
            "+-----------------+---------------------+\n",
            "| heartdisease    |   phi(heartdisease) |\n",
            "+=================+=====================+\n",
            "| heartdisease(0) |              1.0000 |\n",
            "+-----------------+---------------------+\n",
            "| heartdisease(1) |              0.0000 |\n",
            "+-----------------+---------------------+\n",
            "| heartdisease(2) |              0.0000 |\n",
            "+-----------------+---------------------+\n",
            "| heartdisease(3) |              0.0000 |\n",
            "+-----------------+---------------------+\n",
            "| heartdisease(4) |              0.0000 |\n",
            "+-----------------+---------------------+\n"
          ]
        }
      ],
      "source": [
        "# Inferencing with Bayesian Network\n",
        "\n",
        "from pgmpy.inference import VariableElimination\n",
        "HeartDisease_infer = VariableElimination(model)\n",
        "q = HeartDisease_infer.query(variables=['heartdisease'], evidence={'chol':250 })\n",
        "print(q)\n"
      ]
    },
    {
      "cell_type": "code",
      "execution_count": null,
      "id": "81ece204",
      "metadata": {
        "id": "81ece204"
      },
      "outputs": [],
      "source": []
    }
  ],
  "metadata": {
    "kernelspec": {
      "display_name": "Python 3",
      "language": "python",
      "name": "python3"
    },
    "language_info": {
      "codemirror_mode": {
        "name": "ipython",
        "version": 3
      },
      "file_extension": ".py",
      "mimetype": "text/x-python",
      "name": "python",
      "nbconvert_exporter": "python",
      "pygments_lexer": "ipython3",
      "version": "3.8.8"
    },
    "colab": {
      "provenance": []
    }
  },
  "nbformat": 4,
  "nbformat_minor": 5
}